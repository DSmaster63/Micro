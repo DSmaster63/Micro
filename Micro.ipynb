{
 "cells": [
  {
   "cell_type": "code",
   "execution_count": 1,
   "id": "7f8448c7",
   "metadata": {},
   "outputs": [],
   "source": [
    "#Подгружаем необходимые библиотеки для работы с данными и машинного обучения\n",
    "import warnings\n",
    "import timeit\n",
    "\n",
    "import pandas as pd\n",
    "\n",
    "import catboost\n",
    "import phik\n",
    "import lightgbm as lgb\n",
    "from sklearn.model_selection import GridSearchCV, RandomizedSearchCV\n",
    "from sklearn.tree import DecisionTreeRegressor\n",
    "from sklearn.ensemble import RandomForestRegressor \n",
    "from sklearn.linear_model import (LinearRegression, \n",
    "                                  Ridge, \n",
    "                                  Lasso,\n",
    "                                  ElasticNet)\n",
    "from catboost import CatBoostRegressor\n",
    "from sklearn.metrics import (mean_absolute_error,\n",
    "                             mean_squared_error,\n",
    "                             f1_score, \n",
    "                             roc_curve, \n",
    "                             roc_auc_score, \n",
    "                             confusion_matrix,\n",
    "                             accuracy_score,\n",
    "                             make_scorer)\n",
    "from sklearn.utils import shuffle\n",
    "from sklearn.model_selection import train_test_split, ShuffleSplit\n",
    "from sklearn.preprocessing import StandardScaler, OneHotEncoder, OrdinalEncoder\n",
    "from sklearn.dummy import DummyRegressor\n",
    "from statsmodels.stats.outliers_influence import variance_inflation_factor\n",
    "from scipy import stats as st\n",
    "from statsmodels.tsa.seasonal import seasonal_decompose\n",
    "\n",
    "#Подгружаем дополнительные полезные библиотеки\n",
    "import matplotlib.pyplot as plt\n",
    "import seaborn as sns\n",
    "import numpy as np"
   ]
  },
  {
   "cell_type": "code",
   "execution_count": 2,
   "id": "87d6ea6b",
   "metadata": {},
   "outputs": [],
   "source": [
    "#Уберем warnings, чтобы не мешали\n",
    "warnings.filterwarnings(\"ignore\")"
   ]
  },
  {
   "cell_type": "code",
   "execution_count": 3,
   "id": "2e55e1e9",
   "metadata": {},
   "outputs": [],
   "source": [
    "#Загружаем данные\n",
    "data = pd.read_excel('C:/Users/kiril/OneDrive/Рабочий стол/Данила/bact_table.xlsx', sheet_name = 'final table')"
   ]
  },
  {
   "cell_type": "code",
   "execution_count": 4,
   "id": "e7f43397",
   "metadata": {},
   "outputs": [
    {
     "data": {
      "text/html": [
       "<div>\n",
       "<style scoped>\n",
       "    .dataframe tbody tr th:only-of-type {\n",
       "        vertical-align: middle;\n",
       "    }\n",
       "\n",
       "    .dataframe tbody tr th {\n",
       "        vertical-align: top;\n",
       "    }\n",
       "\n",
       "    .dataframe thead th {\n",
       "        text-align: right;\n",
       "    }\n",
       "</style>\n",
       "<table border=\"1\" class=\"dataframe\">\n",
       "  <thead>\n",
       "    <tr style=\"text-align: right;\">\n",
       "      <th></th>\n",
       "      <th>Участок</th>\n",
       "      <th>Oil rate increase</th>\n",
       "      <th>V_injection</th>\n",
       "      <th>Pososity</th>\n",
       "      <th>Permeability</th>\n",
       "      <th>Salinity</th>\n",
       "      <th>Temperature</th>\n",
       "      <th>Viscosity</th>\n",
       "    </tr>\n",
       "  </thead>\n",
       "  <tbody>\n",
       "    <tr>\n",
       "      <th>0</th>\n",
       "      <td>San andreas</td>\n",
       "      <td>10</td>\n",
       "      <td>1.590000</td>\n",
       "      <td>7.9</td>\n",
       "      <td>1.70</td>\n",
       "      <td>40.0</td>\n",
       "      <td>46.0</td>\n",
       "      <td>4.5</td>\n",
       "    </tr>\n",
       "    <tr>\n",
       "      <th>1</th>\n",
       "      <td>Tupungato-Refugio</td>\n",
       "      <td>29</td>\n",
       "      <td>23.850000</td>\n",
       "      <td>18.0</td>\n",
       "      <td>300.00</td>\n",
       "      <td>42.0</td>\n",
       "      <td>71.0</td>\n",
       "      <td>9.0</td>\n",
       "    </tr>\n",
       "    <tr>\n",
       "      <th>2</th>\n",
       "      <td>Huabei</td>\n",
       "      <td>40</td>\n",
       "      <td>23.850000</td>\n",
       "      <td>23.2</td>\n",
       "      <td>240.00</td>\n",
       "      <td>14.0</td>\n",
       "      <td>82.0</td>\n",
       "      <td>40.0</td>\n",
       "    </tr>\n",
       "    <tr>\n",
       "      <th>3</th>\n",
       "      <td>Xinjiyang</td>\n",
       "      <td>36</td>\n",
       "      <td>23.850000</td>\n",
       "      <td>20.0</td>\n",
       "      <td>70.00</td>\n",
       "      <td>8.0</td>\n",
       "      <td>43.0</td>\n",
       "      <td>40.0</td>\n",
       "    </tr>\n",
       "    <tr>\n",
       "      <th>4</th>\n",
       "      <td>Fuyu</td>\n",
       "      <td>66</td>\n",
       "      <td>25.000000</td>\n",
       "      <td>26.9</td>\n",
       "      <td>241.00</td>\n",
       "      <td>3.6</td>\n",
       "      <td>32.0</td>\n",
       "      <td>1850.0</td>\n",
       "    </tr>\n",
       "    <tr>\n",
       "      <th>5</th>\n",
       "      <td>Baolige</td>\n",
       "      <td>73</td>\n",
       "      <td>29.166667</td>\n",
       "      <td>29.0</td>\n",
       "      <td>597.00</td>\n",
       "      <td>4.5</td>\n",
       "      <td>50.0</td>\n",
       "      <td>359.0</td>\n",
       "    </tr>\n",
       "    <tr>\n",
       "      <th>6</th>\n",
       "      <td>Big Wells (Texas)</td>\n",
       "      <td>22</td>\n",
       "      <td>15.900000</td>\n",
       "      <td>20.0</td>\n",
       "      <td>40.00</td>\n",
       "      <td>34.0</td>\n",
       "      <td>81.0</td>\n",
       "      <td>2.5</td>\n",
       "    </tr>\n",
       "    <tr>\n",
       "      <th>7</th>\n",
       "      <td>Vizcacheras (Argentina)</td>\n",
       "      <td>20</td>\n",
       "      <td>0.318182</td>\n",
       "      <td>25.0</td>\n",
       "      <td>1000.00</td>\n",
       "      <td>65.0</td>\n",
       "      <td>92.2</td>\n",
       "      <td>6.3</td>\n",
       "    </tr>\n",
       "    <tr>\n",
       "      <th>8</th>\n",
       "      <td>Lobitos (Peru)</td>\n",
       "      <td>21</td>\n",
       "      <td>0.318182</td>\n",
       "      <td>9.6</td>\n",
       "      <td>4.85</td>\n",
       "      <td>19.0</td>\n",
       "      <td>54.4</td>\n",
       "      <td>13.5</td>\n",
       "    </tr>\n",
       "    <tr>\n",
       "      <th>9</th>\n",
       "      <td>Providencia (Peru)</td>\n",
       "      <td>17</td>\n",
       "      <td>0.318182</td>\n",
       "      <td>15.0</td>\n",
       "      <td>17.00</td>\n",
       "      <td>14.5</td>\n",
       "      <td>45.0</td>\n",
       "      <td>6.5</td>\n",
       "    </tr>\n",
       "    <tr>\n",
       "      <th>10</th>\n",
       "      <td>Daquing (Chao 50)</td>\n",
       "      <td>36</td>\n",
       "      <td>36.000000</td>\n",
       "      <td>17.0</td>\n",
       "      <td>25.00</td>\n",
       "      <td>4.5</td>\n",
       "      <td>55.0</td>\n",
       "      <td>9.7</td>\n",
       "    </tr>\n",
       "  </tbody>\n",
       "</table>\n",
       "</div>"
      ],
      "text/plain": [
       "                    Участок  Oil rate increase  V_injection  Pososity  \\\n",
       "0               San andreas                 10     1.590000       7.9   \n",
       "1         Tupungato-Refugio                 29    23.850000      18.0   \n",
       "2                    Huabei                 40    23.850000      23.2   \n",
       "3                 Xinjiyang                 36    23.850000      20.0   \n",
       "4                      Fuyu                 66    25.000000      26.9   \n",
       "5                   Baolige                 73    29.166667      29.0   \n",
       "6         Big Wells (Texas)                 22    15.900000      20.0   \n",
       "7   Vizcacheras (Argentina)                 20     0.318182      25.0   \n",
       "8            Lobitos (Peru)                 21     0.318182       9.6   \n",
       "9        Providencia (Peru)                 17     0.318182      15.0   \n",
       "10        Daquing (Chao 50)                 36    36.000000      17.0   \n",
       "\n",
       "    Permeability  Salinity  Temperature  Viscosity  \n",
       "0           1.70      40.0         46.0        4.5  \n",
       "1         300.00      42.0         71.0        9.0  \n",
       "2         240.00      14.0         82.0       40.0  \n",
       "3          70.00       8.0         43.0       40.0  \n",
       "4         241.00       3.6         32.0     1850.0  \n",
       "5         597.00       4.5         50.0      359.0  \n",
       "6          40.00      34.0         81.0        2.5  \n",
       "7        1000.00      65.0         92.2        6.3  \n",
       "8           4.85      19.0         54.4       13.5  \n",
       "9          17.00      14.5         45.0        6.5  \n",
       "10         25.00       4.5         55.0        9.7  "
      ]
     },
     "execution_count": 4,
     "metadata": {},
     "output_type": "execute_result"
    }
   ],
   "source": [
    "data"
   ]
  },
  {
   "cell_type": "code",
   "execution_count": 5,
   "id": "019d1e77",
   "metadata": {},
   "outputs": [
    {
     "data": {
      "text/html": [
       "<div>\n",
       "<style scoped>\n",
       "    .dataframe tbody tr th:only-of-type {\n",
       "        vertical-align: middle;\n",
       "    }\n",
       "\n",
       "    .dataframe tbody tr th {\n",
       "        vertical-align: top;\n",
       "    }\n",
       "\n",
       "    .dataframe thead th {\n",
       "        text-align: right;\n",
       "    }\n",
       "</style>\n",
       "<table border=\"1\" class=\"dataframe\">\n",
       "  <thead>\n",
       "    <tr style=\"text-align: right;\">\n",
       "      <th></th>\n",
       "      <th>count</th>\n",
       "      <th>mean</th>\n",
       "      <th>std</th>\n",
       "      <th>min</th>\n",
       "      <th>25%</th>\n",
       "      <th>50%</th>\n",
       "      <th>75%</th>\n",
       "      <th>max</th>\n",
       "    </tr>\n",
       "  </thead>\n",
       "  <tbody>\n",
       "    <tr>\n",
       "      <th>Oil rate increase</th>\n",
       "      <td>11.0</td>\n",
       "      <td>33.636</td>\n",
       "      <td>19.966</td>\n",
       "      <td>10.000</td>\n",
       "      <td>20.500</td>\n",
       "      <td>29.00</td>\n",
       "      <td>38.000</td>\n",
       "      <td>73.0</td>\n",
       "    </tr>\n",
       "    <tr>\n",
       "      <th>V_injection</th>\n",
       "      <td>11.0</td>\n",
       "      <td>16.378</td>\n",
       "      <td>13.353</td>\n",
       "      <td>0.318</td>\n",
       "      <td>0.954</td>\n",
       "      <td>23.85</td>\n",
       "      <td>24.425</td>\n",
       "      <td>36.0</td>\n",
       "    </tr>\n",
       "    <tr>\n",
       "      <th>Pososity</th>\n",
       "      <td>11.0</td>\n",
       "      <td>19.236</td>\n",
       "      <td>6.708</td>\n",
       "      <td>7.900</td>\n",
       "      <td>16.000</td>\n",
       "      <td>20.00</td>\n",
       "      <td>24.100</td>\n",
       "      <td>29.0</td>\n",
       "    </tr>\n",
       "    <tr>\n",
       "      <th>Permeability</th>\n",
       "      <td>11.0</td>\n",
       "      <td>230.595</td>\n",
       "      <td>313.786</td>\n",
       "      <td>1.700</td>\n",
       "      <td>21.000</td>\n",
       "      <td>70.00</td>\n",
       "      <td>270.500</td>\n",
       "      <td>1000.0</td>\n",
       "    </tr>\n",
       "    <tr>\n",
       "      <th>Salinity</th>\n",
       "      <td>11.0</td>\n",
       "      <td>22.645</td>\n",
       "      <td>19.972</td>\n",
       "      <td>3.600</td>\n",
       "      <td>6.250</td>\n",
       "      <td>14.50</td>\n",
       "      <td>37.000</td>\n",
       "      <td>65.0</td>\n",
       "    </tr>\n",
       "    <tr>\n",
       "      <th>Temperature</th>\n",
       "      <td>11.0</td>\n",
       "      <td>59.236</td>\n",
       "      <td>19.305</td>\n",
       "      <td>32.000</td>\n",
       "      <td>45.500</td>\n",
       "      <td>54.40</td>\n",
       "      <td>76.000</td>\n",
       "      <td>92.2</td>\n",
       "    </tr>\n",
       "    <tr>\n",
       "      <th>Viscosity</th>\n",
       "      <td>11.0</td>\n",
       "      <td>212.818</td>\n",
       "      <td>552.887</td>\n",
       "      <td>2.500</td>\n",
       "      <td>6.400</td>\n",
       "      <td>9.70</td>\n",
       "      <td>40.000</td>\n",
       "      <td>1850.0</td>\n",
       "    </tr>\n",
       "  </tbody>\n",
       "</table>\n",
       "</div>"
      ],
      "text/plain": [
       "                   count     mean      std     min     25%    50%      75%  \\\n",
       "Oil rate increase   11.0   33.636   19.966  10.000  20.500  29.00   38.000   \n",
       "V_injection         11.0   16.378   13.353   0.318   0.954  23.85   24.425   \n",
       "Pososity            11.0   19.236    6.708   7.900  16.000  20.00   24.100   \n",
       "Permeability        11.0  230.595  313.786   1.700  21.000  70.00  270.500   \n",
       "Salinity            11.0   22.645   19.972   3.600   6.250  14.50   37.000   \n",
       "Temperature         11.0   59.236   19.305  32.000  45.500  54.40   76.000   \n",
       "Viscosity           11.0  212.818  552.887   2.500   6.400   9.70   40.000   \n",
       "\n",
       "                      max  \n",
       "Oil rate increase    73.0  \n",
       "V_injection          36.0  \n",
       "Pososity             29.0  \n",
       "Permeability       1000.0  \n",
       "Salinity             65.0  \n",
       "Temperature          92.2  \n",
       "Viscosity          1850.0  "
      ]
     },
     "execution_count": 5,
     "metadata": {},
     "output_type": "execute_result"
    }
   ],
   "source": [
    "data.describe().transpose().round(3)"
   ]
  },
  {
   "cell_type": "code",
   "execution_count": 6,
   "id": "0fdb8efa",
   "metadata": {},
   "outputs": [],
   "source": [
    "#Не нужен для модели\n",
    "data = data.drop(['Участок'], axis=1)"
   ]
  },
  {
   "cell_type": "markdown",
   "id": "10b78345",
   "metadata": {},
   "source": [
    "Также было замечено с помощью нескольких прогонов моделей и использования команд ниже, что некоторые признаки ухудшают качество модели. Поэтому в новом используемом датасете коллега уже учел данные нюансы и рекомендацию о более внимательной подготовке данных"
   ]
  },
  {
   "cell_type": "raw",
   "id": "7c40096c",
   "metadata": {},
   "source": [
    "#Нулевые и пропущенные значения\n",
    "data = data.drop([5, 20], axis=0)\n",
    "\n",
    "#Было заводнение,ВПП\n",
    "data.iloc[6, 5] = 'Заводнение'\n",
    "\n",
    "#Категориальные делают только хуже\n",
    "data = data.drop(['Тип коллектора', 'Метод'], axis=1)\n",
    "\n",
    "#Переименование стобцоы для LGBM\n",
    "data.columns = ['Rate_Increase', 'Perm', 'Salinity', 'Temperature']"
   ]
  },
  {
   "cell_type": "code",
   "execution_count": 7,
   "id": "08f30527",
   "metadata": {},
   "outputs": [
    {
     "name": "stdout",
     "output_type": "stream",
     "text": [
      "<class 'pandas.core.frame.DataFrame'>\n",
      "RangeIndex: 11 entries, 0 to 10\n",
      "Data columns (total 7 columns):\n",
      " #   Column             Non-Null Count  Dtype  \n",
      "---  ------             --------------  -----  \n",
      " 0   Oil rate increase  11 non-null     int64  \n",
      " 1   V_injection        11 non-null     float64\n",
      " 2   Pososity           11 non-null     float64\n",
      " 3   Permeability       11 non-null     float64\n",
      " 4   Salinity           11 non-null     float64\n",
      " 5   Temperature        11 non-null     float64\n",
      " 6   Viscosity          11 non-null     float64\n",
      "dtypes: float64(6), int64(1)\n",
      "memory usage: 744.0 bytes\n"
     ]
    }
   ],
   "source": [
    "data.info()"
   ]
  },
  {
   "cell_type": "code",
   "execution_count": 8,
   "id": "b7887ebf",
   "metadata": {
    "scrolled": false
   },
   "outputs": [
    {
     "data": {
      "image/png": "[encoded data removed]",
      "text/plain": [
       "<Figure size 1800x1000 with 2 Axes>"
      ]
     },
     "metadata": {},
     "output_type": "display_data"
    }
   ],
   "source": [
    "#Выведем тепловую карту, чтобы понять, какие параметры наибольшим образом коррелируют между собой\n",
    "plt.figure(figsize=(18,10))\n",
    "plt.title('Пирсон')\n",
    "sns.heatmap(data.corr(method='pearson'), annot=True, fmt='.1g');"
   ]
  },
  {
   "cell_type": "code",
   "execution_count": 9,
   "id": "f993bd08",
   "metadata": {},
   "outputs": [
    {
     "name": "stdout",
     "output_type": "stream",
     "text": [
      "(8, 6)\n",
      "(8,)\n",
      "(3, 6)\n",
      "(3,)\n"
     ]
    }
   ],
   "source": [
    "#Разделим данные на выборки 75:25\n",
    "features = data.drop('Oil rate increase', axis=1)\n",
    "target = data['Oil rate increase']\n",
    "\n",
    "features_train, features_test, target_train, target_test = train_test_split(\n",
    "    features, target, test_size=0.25, random_state=12345)\n",
    "\n",
    "print(features_train.shape)\n",
    "print(target_train.shape)\n",
    "print(features_test.shape)\n",
    "print(target_test.shape)"
   ]
  },
  {
   "cell_type": "code",
   "execution_count": 10,
   "id": "194b6aa8",
   "metadata": {},
   "outputs": [],
   "source": [
    "best_score_set = []"
   ]
  },
  {
   "cell_type": "markdown",
   "id": "fa187fb2",
   "metadata": {},
   "source": [
    "Из-за малого количества данных использование кросс-валидации ухудшает качество моделей"
   ]
  },
  {
   "cell_type": "code",
   "execution_count": 11,
   "id": "ad0fabcd",
   "metadata": {},
   "outputs": [
    {
     "name": "stdout",
     "output_type": "stream",
     "text": [
      "--------------------\n",
      "Для DT:\n",
      "Лучшая модель: DecisionTreeRegressor(max_depth=3, random_state=12345)\n",
      "Лучшие гиперпараметры: глубина = 3\n",
      "Лучший MAE: 3.5\n"
     ]
    }
   ],
   "source": [
    "best_mae_test = 1000\n",
    "for i in range(2, 7):\n",
    "    DT = DecisionTreeRegressor(random_state=12345, max_depth=i)\n",
    "    DT.fit(features_train, target_train)\n",
    "    predictions = DT.predict(features_test)\n",
    "    mae_test = mean_absolute_error(target_test, predictions)\n",
    "    if mae_test < best_mae_test:\n",
    "        best_mae_test = mae_test\n",
    "        best_depth = i\n",
    "        best_model_DT = DT\n",
    "\n",
    "best_score_set.append(round(best_mae_test, 3))        \n",
    "\n",
    "print(20 * '-')\n",
    "print('Для DT:')\n",
    "print('Лучшая модель:', best_model_DT)\n",
    "print(f'Лучшие гиперпараметры: глубина = {best_depth}')\n",
    "print('Лучший MAE:', round(best_mae_test, 3))"
   ]
  },
  {
   "cell_type": "code",
   "execution_count": 12,
   "id": "76422852",
   "metadata": {},
   "outputs": [
    {
     "name": "stdout",
     "output_type": "stream",
     "text": [
      "--------------------\n",
      "Для RF:\n",
      "Лучшая модель: RandomForestRegressor(max_depth=2, n_estimators=1, n_jobs=-1,\n",
      "                      random_state=12345)\n",
      "Лучшие гиперпараметры: глубина = 2, est = 1\n",
      "Лучший MAE: 4.889\n"
     ]
    }
   ],
   "source": [
    "best_mae_test = 1000\n",
    "for i in range(2, 7):\n",
    "    for j in range(1, 100, 2):\n",
    "        RF = RandomForestRegressor(verbose=0, n_jobs=-1, random_state=12345, max_depth=i, n_estimators=j)\n",
    "        RF.fit(features_train, target_train)\n",
    "        predictions = RF.predict(features_test)\n",
    "        mae_test = mean_absolute_error(target_test, predictions)\n",
    "        if mae_test < best_mae_test:\n",
    "            best_mae_test = mae_test\n",
    "            best_depth = i\n",
    "            best_est = j\n",
    "            best_model_RF = RF\n",
    "\n",
    "best_score_set.append(round(best_mae_test, 3))        \n",
    "\n",
    "print(20 * '-')\n",
    "print('Для RF:')\n",
    "print('Лучшая модель:', best_model_RF)\n",
    "print(f'Лучшие гиперпараметры: глубина = {best_depth}, est = {best_est}')\n",
    "print('Лучший MAE:', round(best_mae_test, 3))"
   ]
  },
  {
   "cell_type": "code",
   "execution_count": 13,
   "id": "533160fc",
   "metadata": {},
   "outputs": [
    {
     "name": "stdout",
     "output_type": "stream",
     "text": [
      "--------------------\n",
      "Для LR:\n",
      "Лучший MAE: 14.286\n"
     ]
    }
   ],
   "source": [
    "LR = LinearRegression()\n",
    "LR.fit(features_train, target_train)\n",
    "predictions = LR.predict(features_test)\n",
    "best_mae_test = mean_absolute_error(target_test, predictions)\n",
    "best_model_LR = LR\n",
    "best_score_set.append(round(best_mae_test, 3))        \n",
    "\n",
    "print(20 * '-')\n",
    "print('Для LR:')\n",
    "print('Лучший MAE:', round(best_mae_test, 3))"
   ]
  },
  {
   "cell_type": "code",
   "execution_count": 14,
   "id": "09afd08a",
   "metadata": {},
   "outputs": [
    {
     "name": "stdout",
     "output_type": "stream",
     "text": [
      "--------------------\n",
      "Для LGBM:\n",
      "Лучшая модель: LGBMRegressor(max_depth=2, n_estimators=1, random_state=12345, verbose=-1)\n",
      "Лучшие гиперпараметры: глубина = 2, est = 1\n",
      "Лучший MAE: 16.0\n"
     ]
    }
   ],
   "source": [
    "best_mae_test = 1000\n",
    "for i in range(2, 7):\n",
    "    for j in range(1, 100, 2):\n",
    "        LGBM = lgb.LGBMRegressor(verbose=-1, n_jobs=-1, random_state=12345, max_depth=i, n_estimators=j)\n",
    "        LGBM.fit(features_train, target_train)\n",
    "        predictions = LGBM.predict(features_test)\n",
    "        mae_test = mean_absolute_error(target_test, predictions)\n",
    "        if mae_test < best_mae_test:\n",
    "            best_mae_test = mae_test\n",
    "            best_depth = i\n",
    "            best_est = j\n",
    "            best_model_LightGBM = LGBM\n",
    "\n",
    "best_score_set.append(round(best_mae_test, 3))        \n",
    "\n",
    "print(20 * '-')\n",
    "print('Для LGBM:')\n",
    "print('Лучшая модель:', best_model_LightGBM)\n",
    "print(f'Лучшие гиперпараметры: глубина = {best_depth}, est = {best_est}')\n",
    "print('Лучший MAE:', round(best_mae_test, 3))"
   ]
  },
  {
   "cell_type": "code",
   "execution_count": 15,
   "id": "d4556d4c",
   "metadata": {},
   "outputs": [
    {
     "name": "stdout",
     "output_type": "stream",
     "text": [
      "--------------------\n",
      "Для catboost:\n",
      "Лучшая модель: <catboost.core.CatBoostRegressor object at 0x00000258DDB34EE0>\n",
      "Лучшие гиперпараметры: глубина = 3, est = 19\n",
      "Лучший MAE: 5.646\n"
     ]
    }
   ],
   "source": [
    "best_mae_test = 1000\n",
    "for i in range(2, 7):\n",
    "    for j in range(1, 100, 2):\n",
    "        catboost = CatBoostRegressor(verbose=0, random_state=12345, max_depth=i, n_estimators=j)\n",
    "        catboost.fit(features_train, target_train)\n",
    "        predictions = catboost.predict(features_test)\n",
    "        mae_test = mean_absolute_error(target_test, predictions)\n",
    "        if mae_test < best_mae_test:\n",
    "            best_mae_test = mae_test\n",
    "            best_depth = i\n",
    "            best_est = j\n",
    "            best_model_catboost = catboost\n",
    "\n",
    "best_score_set.append(round(best_mae_test, 3))        \n",
    "\n",
    "print(20 * '-')\n",
    "print('Для catboost:')\n",
    "print('Лучшая модель:', best_model_catboost)\n",
    "print(f'Лучшие гиперпараметры: глубина = {best_depth}, est = {best_est}')\n",
    "print('Лучший MAE:', round(best_mae_test, 3))"
   ]
  },
  {
   "cell_type": "code",
   "execution_count": 16,
   "id": "8a6f26d7",
   "metadata": {},
   "outputs": [
    {
     "data": {
      "text/html": [
       "<div>\n",
       "<style scoped>\n",
       "    .dataframe tbody tr th:only-of-type {\n",
       "        vertical-align: middle;\n",
       "    }\n",
       "\n",
       "    .dataframe tbody tr th {\n",
       "        vertical-align: top;\n",
       "    }\n",
       "\n",
       "    .dataframe thead th {\n",
       "        text-align: right;\n",
       "    }\n",
       "</style>\n",
       "<table border=\"1\" class=\"dataframe\">\n",
       "  <thead>\n",
       "    <tr style=\"text-align: right;\">\n",
       "      <th></th>\n",
       "      <th>MAE</th>\n",
       "      <th>Время обучения</th>\n",
       "      <th>Время прогноза</th>\n",
       "    </tr>\n",
       "  </thead>\n",
       "  <tbody>\n",
       "    <tr>\n",
       "      <th>Дерево решений</th>\n",
       "      <td>3.500</td>\n",
       "      <td>0.004</td>\n",
       "      <td>0.002</td>\n",
       "    </tr>\n",
       "    <tr>\n",
       "      <th>Случайный лес</th>\n",
       "      <td>4.889</td>\n",
       "      <td>0.010</td>\n",
       "      <td>0.001</td>\n",
       "    </tr>\n",
       "    <tr>\n",
       "      <th>Линейная регрессия</th>\n",
       "      <td>14.286</td>\n",
       "      <td>0.001</td>\n",
       "      <td>0.001</td>\n",
       "    </tr>\n",
       "    <tr>\n",
       "      <th>LGBM</th>\n",
       "      <td>16.000</td>\n",
       "      <td>0.003</td>\n",
       "      <td>0.001</td>\n",
       "    </tr>\n",
       "    <tr>\n",
       "      <th>Catboost</th>\n",
       "      <td>5.646</td>\n",
       "      <td>0.048</td>\n",
       "      <td>0.003</td>\n",
       "    </tr>\n",
       "  </tbody>\n",
       "</table>\n",
       "</div>"
      ],
      "text/plain": [
       "                       MAE  Время обучения  Время прогноза\n",
       "Дерево решений       3.500           0.004           0.002\n",
       "Случайный лес        4.889           0.010           0.001\n",
       "Линейная регрессия  14.286           0.001           0.001\n",
       "LGBM                16.000           0.003           0.001\n",
       "Catboost             5.646           0.048           0.003"
      ]
     },
     "execution_count": 16,
     "metadata": {},
     "output_type": "execute_result"
    }
   ],
   "source": [
    "#Найдем время обучения и предсказания без RandomizedSearchCV и кросс-валидации\n",
    "#Также добавим МAE после кросс-валидации и RandomizedSearchCV\n",
    "time_fit_set = []\n",
    "time_pred_set = []\n",
    "\n",
    "for i in [best_model_DT,\n",
    "          best_model_RF,\n",
    "          best_model_LR,\n",
    "          best_model_LightGBM,\n",
    "          best_model_catboost]:\n",
    "    \n",
    "    model = i\n",
    "    \n",
    "    #Обучаем и фиксируем время обучения\n",
    "    start_time_fit = timeit.default_timer()\n",
    "    model.fit(features_train, target_train)\n",
    "    time_fit = timeit.default_timer() - start_time_fit\n",
    "    \n",
    "    #Делаем прогноз и фиксируем время прогноза\n",
    "    start_time_pred = timeit.default_timer()\n",
    "    model.predict(features_test)\n",
    "    time_pred = timeit.default_timer() - start_time_pred\n",
    "    \n",
    "    time_fit_set.append(round(time_fit, 3))\n",
    "    time_pred_set.append(round(time_pred, 3))\n",
    "    \n",
    "pivot_model = pd.DataFrame({'MAE' : best_score_set, \n",
    "                            'Время обучения' : time_fit_set, \n",
    "                            'Время прогноза' : time_pred_set,\n",
    "                           }, \n",
    "                            index=['Дерево решений', 'Случайный лес', 'Линейная регрессия', 'LGBM', 'Catboost'])\n",
    "\n",
    "pivot_model"
   ]
  },
  {
   "cell_type": "code",
   "execution_count": 17,
   "id": "25ad752a",
   "metadata": {},
   "outputs": [
    {
     "name": "stdout",
     "output_type": "stream",
     "text": [
      "--------------------\n",
      "MAE тестовой выборки: 3.5\n"
     ]
    }
   ],
   "source": [
    "#Найдем MAE на тестовой выборке\n",
    "model = best_model_DT \n",
    "model.fit(features_train, target_train)\n",
    "predictions = model.predict(features_test)\n",
    "mae_test = mean_absolute_error(target_test, predictions)\n",
    "print('-' * 20)\n",
    "print('MAE тестовой выборки:', round(mae_test, 3))"
   ]
  },
  {
   "cell_type": "code",
   "execution_count": 18,
   "id": "0607eb25",
   "metadata": {},
   "outputs": [
    {
     "name": "stdout",
     "output_type": "stream",
     "text": [
      "MAE константной модели составляет: 16.0\n"
     ]
    }
   ],
   "source": [
    "#Сравним результаты тестовой модели с константной\n",
    "dummy_clf = DummyRegressor()\n",
    "dummy_clf.fit(features_train, target_train)\n",
    "predict_dummy = dummy_clf.predict(features_test)\n",
    "mae_dummy = mean_absolute_error(target_test, predict_dummy)\n",
    "print('MAE константной модели составляет:', mae_dummy.round(1))"
   ]
  },
  {
   "cell_type": "code",
   "execution_count": 19,
   "id": "04cf9ff3",
   "metadata": {},
   "outputs": [
    {
     "data": {
      "image/png": "[encoded data removed]",
      "text/plain": [
       "<Figure size 1200x500 with 1 Axes>"
      ]
     },
     "metadata": {},
     "output_type": "display_data"
    }
   ],
   "source": [
    "#Построим график для сравнения факта и прогноза\n",
    "prediction = pd.DataFrame({'MAE' : predictions}, index=target_test.index)\n",
    "plt.figure(figsize=(12,5))\n",
    "plt.scatter(target_test.index, target_test, label='Fact')\n",
    "plt.scatter(target_test.index, prediction, label='Predictions')\n",
    "plt.scatter(target_test.index, predict_dummy, label='Predictions_dummy')\n",
    "plt.title('target')\n",
    "plt.xlabel('index');\n",
    "plt.ylabel('target');\n",
    "plt.legend();"
   ]
  },
  {
   "cell_type": "code",
   "execution_count": 20,
   "id": "1c5d2c5c",
   "metadata": {},
   "outputs": [
    {
     "data": {
      "image/png": "[encoded data removed]",
      "text/plain": [
       "<Figure size 1200x1000 with 1 Axes>"
      ]
     },
     "metadata": {},
     "output_type": "display_data"
    }
   ],
   "source": [
    "#Построим график важности признаков\n",
    "feature_importance = model.feature_importances_\n",
    "sorted_idx = np.argsort(feature_importance)\n",
    "fig = plt.figure(figsize=(12, 10))\n",
    "plt.barh(range(len(sorted_idx)), feature_importance[sorted_idx], align='center');\n",
    "plt.yticks(range(len(sorted_idx)), np.array(features_test.columns)[sorted_idx]);\n",
    "plt.title('Важность признаков');"
   ]
  },
  {
   "cell_type": "code",
   "execution_count": 22,
   "id": "2d99ad69",
   "metadata": {},
   "outputs": [
    {
     "name": "stdout",
     "output_type": "stream",
     "text": [
      "Прирост дебита = 17.0%\n"
     ]
    }
   ],
   "source": [
    "#Проверяем интересующее нас месторождение\n",
    "param_VU = pd.DataFrame ({'V_injection':[16.0], \n",
    "                         'Porosity':[11.0], \n",
    "                         'Permeability':[0.49], \n",
    "                         'Salinity':[235.0],\n",
    "                         'Temperature':[35.0],\n",
    "                         'Viscosity':[0.98]})\n",
    "predict_VU = model.predict(param_VU)\n",
    "print(f'Прирост дебита = {round(predict_VU[0], 1)}%')"
   ]
  }
 ],
 "metadata": {
  "kernelspec": {
   "display_name": "Python 3 (ipykernel)",
   "language": "python",
   "name": "python3"
  },
  "language_info": {
   "codemirror_mode": {
    "name": "ipython",
    "version": 3
   },
   "file_extension": ".py",
   "mimetype": "text/x-python",
   "name": "python",
   "nbconvert_exporter": "python",
   "pygments_lexer": "ipython3",
   "version": "3.9.13"
  }
 },
 "nbformat": 4,
 "nbformat_minor": 5
}
